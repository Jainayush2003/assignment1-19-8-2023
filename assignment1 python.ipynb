{
 "cells": [
  {
   "cell_type": "raw",
   "id": "815baa08-e591-43d5-a10e-6044651d5733",
   "metadata": {},
   "source": [
    "Q1.Declare two variables, `x` and `y`, and assign them integer values.\n",
    "Swap the values of these variables without using any temporary\n",
    "variable."
   ]
  },
  {
   "cell_type": "code",
   "execution_count": 6,
   "id": "f730f984-7b7a-446a-b5b3-b875693346ac",
   "metadata": {},
   "outputs": [
    {
     "name": "stdout",
     "output_type": "stream",
     "text": [
      "After swapping:\n",
      "x = 10\n",
      "y = 5\n"
     ]
    }
   ],
   "source": [
    "#Code:-\n",
    "\n",
    "x = 5\n",
    "y = 10\n",
    "\n",
    "x = x + y      # first the value of x become 15 (x=10+5 gives 15)\n",
    "y = x - y      # then the value of y become  5  (y=15-10 gives 5)\n",
    "x = x - y      # then the value of x become 10  (x=15-5 gives 10)\n",
    "\n",
    "# so, value of x and y is swaped without using third variable\n",
    "\n",
    "print(\"After swapping:\")\n",
    "print(\"x =\", x)\n",
    "print(\"y =\", y)"
   ]
  },
  {
   "cell_type": "raw",
   "id": "63cbe460-da56-44e8-8859-97372d84f59c",
   "metadata": {},
   "source": [
    "Q2. Create a program that calculates the area of a rectangle. Take the\n",
    "length and width as inputs from the user and store them in variables.\n",
    "Calculate and display the area."
   ]
  },
  {
   "cell_type": "code",
   "execution_count": 7,
   "id": "ffd7d12b-f199-4252-a27f-4df5128f9904",
   "metadata": {},
   "outputs": [
    {
     "name": "stdin",
     "output_type": "stream",
     "text": [
      "Enter the length of the area:- 12.78\n",
      "Enter the width of the area:- 67\n"
     ]
    },
    {
     "name": "stdout",
     "output_type": "stream",
     "text": [
      "The area of rectangle is:-  856.26 sq.m\n"
     ]
    }
   ],
   "source": [
    "#Code:-\n",
    "\n",
    "length=float(input(\"Enter the length of the area:-\"))   # taking length as input\n",
    "width=float(input(\"Enter the width of the area:-\"))     # taking width as input\n",
    "\n",
    "# area of rectangle\n",
    "area=length*width\n",
    "print(\"The area of rectangle is:- \",area,\"sq.m\")\n",
    "\n"
   ]
  },
  {
   "cell_type": "raw",
   "id": "380e5a7c-4a26-41a8-8891-50fab93c32a2",
   "metadata": {},
   "source": [
    "Q3. Write a Python program that converts temperature from Celsius to\n",
    "Fahrenheit. Take the temperature in Celsius as input, store it in a\n",
    "variable, convert it to Fahrenheit, and display the result."
   ]
  },
  {
   "cell_type": "code",
   "execution_count": 8,
   "id": "be17e22c-3571-4c87-820d-79b329de3847",
   "metadata": {},
   "outputs": [
    {
     "name": "stdin",
     "output_type": "stream",
     "text": [
      "Enter the temperature of your city in celsius:- 43.3\n"
     ]
    },
    {
     "name": "stdout",
     "output_type": "stream",
     "text": [
      "The  temperature of the city in the celsius is:- 43.3 °c\n",
      "The  temperature of the city in the farhenite is:- 109.94 °f\n"
     ]
    }
   ],
   "source": [
    "#Code:-\n",
    "\n",
    "celsius=float(input(\"Enter the temperature of your city in celsius:-\"))\n",
    "\n",
    "# coverting the temperature from celcius to farhenite\n",
    "\n",
    "farhenite=(celsius*1.8)+32\n",
    "\n",
    "print(\"The  temperature of the city in the celsius is:-\",celsius,\"°c\")\n",
    "print(\"The  temperature of the city in the farhenite is:-\",round(farhenite,2),\"°f\") \n",
    "# round is used to roundoff the number upto two decimal digit\n",
    "\n",
    "\n"
   ]
  },
  {
   "cell_type": "raw",
   "id": "75f9040c-8059-4efb-8d37-06b6561b1d99",
   "metadata": {},
   "source": [
    "Q4. Write a Python program that takes a string as input and prints the\n",
    "length of the string."
   ]
  },
  {
   "cell_type": "code",
   "execution_count": 9,
   "id": "53d7f110-d57a-4271-a8f0-d165c618aa89",
   "metadata": {},
   "outputs": [
    {
     "name": "stdin",
     "output_type": "stream",
     "text": [
      "Enter the string:- hii this is ayush jain\n"
     ]
    },
    {
     "name": "stdout",
     "output_type": "stream",
     "text": [
      "The length of the string is:- 22\n"
     ]
    }
   ],
   "source": [
    "#Code:-\n",
    "\n",
    "st=input(\"Enter the string:-\")\n",
    "length=len(st)\n",
    "\n",
    "print(\"The length of the string is:-\",length)"
   ]
  },
  {
   "cell_type": "raw",
   "id": "4c9ff160-a67f-435f-a15f-0e3b6c085743",
   "metadata": {},
   "source": [
    "Q5.Create a program that takes a sentence from the user and counts the\n",
    "number of vowels (a, e, i, o, u) in the string."
   ]
  },
  {
   "cell_type": "code",
   "execution_count": 5,
   "id": "86a54db6-9209-4b47-a835-70f827308291",
   "metadata": {},
   "outputs": [
    {
     "name": "stdin",
     "output_type": "stream",
     "text": [
      "Enter a sentence:  I want to became a data scientist\n"
     ]
    },
    {
     "name": "stdout",
     "output_type": "stream",
     "text": [
      "Number of vowels: 12\n"
     ]
    }
   ],
   "source": [
    "def vowel_counter(sentence):    # first we created a function name vowel counter\n",
    "    vowels = \"aeiouAEIOU\"       # then the string of vowels in lowercase and uppercase is assigned in a variable\n",
    "    counter = 0\n",
    "    \n",
    "    for char in sentence:        # iterating a loop for a character in a sentence\n",
    "        if char in vowels:       # then giving the condition if the character is vowel or not\n",
    "            counter += 1         # if the char in the sentence is vowel then increase counter by 1\n",
    "    \n",
    "    return counter\n",
    "\n",
    "user_input = input(\"Enter a sentence: \")   # then taking the input of the string from the user\n",
    "result = vowel_counter(user_input)          # passing the user input in the function vowel counter\n",
    "print(\"Number of vowels:\", result)           # and finally we get the count of the vowels in the sentence\n"
   ]
  },
  {
   "cell_type": "raw",
   "id": "f1c056f2-9700-455f-a915-9c3b1f446cf8",
   "metadata": {},
   "source": [
    "Q6.Given a string, reverse the order of characters using string slicing and\n",
    "print the reversed string."
   ]
  },
  {
   "cell_type": "code",
   "execution_count": 11,
   "id": "9f52c987-d732-44f1-a7ad-e97151db1ce1",
   "metadata": {},
   "outputs": [
    {
     "name": "stdin",
     "output_type": "stream",
     "text": [
      "Enter the string:- pwskills\n"
     ]
    },
    {
     "name": "stdout",
     "output_type": "stream",
     "text": [
      "the reverse of the given string is:-  sllikswp\n"
     ]
    }
   ],
   "source": [
    "st=input(\"Enter the string:-\")\n",
    "\n",
    "reverse=st[::-1]\n",
    "\n",
    "print(\"the reverse of the given string is:- \",reverse)\n"
   ]
  },
  {
   "cell_type": "raw",
   "id": "6b234565-ccc5-44fd-b84e-0c18387c3d11",
   "metadata": {},
   "source": [
    "Q7.Write a program that takes a string as input and checks if it is a\n",
    "palindrome (reads the same forwards and backwards)."
   ]
  },
  {
   "cell_type": "code",
   "execution_count": 23,
   "id": "f540b72f-f55d-4c08-bd68-052a68b67849",
   "metadata": {},
   "outputs": [
    {
     "name": "stdin",
     "output_type": "stream",
     "text": [
      "Enter a string:  level\n"
     ]
    },
    {
     "name": "stdout",
     "output_type": "stream",
     "text": [
      "It is a palindrome string!\n"
     ]
    }
   ],
   "source": [
    "def palindrome_str(input_string):          # creating the function name palindrome_str\n",
    "    reversed_string = input_string[::-1]   # reversing the string using the slicing method\n",
    "    return input_str == reversed_string    # it means the input string is equals to reversed string\n",
    "\n",
    "user_input = input(\"Enter a string: \")     # taking input from user\n",
    "if is_palindrome(user_input):              # the input string==reverse of input string then the string is palindrome\n",
    "    print(\"It is a palindrome string!\")\n",
    "else:\n",
    "    print(\"Sorry! it is not a palindrome string\")        # if not equals then the string is not palindrome\n",
    "    \n",
    "\n",
    "\n",
    "#palindrome string means the given string is equals to reverse of same string\n",
    " \n"
   ]
  },
  {
   "cell_type": "raw",
   "id": "95380a9b-bcff-475e-8fb4-e8e96a5d5102",
   "metadata": {},
   "source": [
    "Q8.Create a program that takes a string as input and removes all the\n",
    "spaces from it. Print the modified string without spaces."
   ]
  },
  {
   "cell_type": "code",
   "execution_count": 26,
   "id": "5b283e1e-9be7-447a-ac41-ecf0b8e7605f",
   "metadata": {},
   "outputs": [
    {
     "name": "stdin",
     "output_type": "stream",
     "text": [
      "Enter any string:- hey how are you\n"
     ]
    },
    {
     "name": "stdout",
     "output_type": "stream",
     "text": [
      "modified string:-  heyhowareyou\n"
     ]
    }
   ],
   "source": [
    "def space_remover(sentence):      # creating the function called space_remover\n",
    "    remove_space=sentence.replace(' ','')  # it will remove space from the sentence\n",
    "    return remove_space\n",
    "\n",
    "user_input=input(\"Enter any string:-\")   # taking user input\n",
    "result=space_remover(user_input)         \n",
    "print(\"modified string:- \",result)       # modifieed string"
   ]
  },
  {
   "cell_type": "code",
   "execution_count": null,
   "id": "68c6679c-4191-42b9-b8b9-f16b58e28c2b",
   "metadata": {},
   "outputs": [],
   "source": []
  },
  {
   "cell_type": "code",
   "execution_count": null,
   "id": "fe08c625-196f-47d8-bc42-82a5d3245d06",
   "metadata": {},
   "outputs": [],
   "source": []
  },
  {
   "cell_type": "code",
   "execution_count": null,
   "id": "f3766bb1-c535-439d-a2ea-c4f1e6673a13",
   "metadata": {},
   "outputs": [],
   "source": []
  },
  {
   "cell_type": "code",
   "execution_count": null,
   "id": "111e447a-e789-420f-a5ab-ea8974a6a670",
   "metadata": {},
   "outputs": [],
   "source": []
  },
  {
   "cell_type": "code",
   "execution_count": null,
   "id": "8cc0aac9-5378-4c1c-8743-71ce5aa3069b",
   "metadata": {},
   "outputs": [],
   "source": []
  },
  {
   "cell_type": "code",
   "execution_count": null,
   "id": "580954db-5468-4c4d-8784-22274ee49b9b",
   "metadata": {},
   "outputs": [],
   "source": []
  },
  {
   "cell_type": "code",
   "execution_count": null,
   "id": "e3748303-aa7f-430f-831c-95800ed905c1",
   "metadata": {},
   "outputs": [],
   "source": []
  },
  {
   "cell_type": "code",
   "execution_count": null,
   "id": "2bbaf5e5-c896-438e-9d7d-bb37dd532a89",
   "metadata": {},
   "outputs": [],
   "source": []
  }
 ],
 "metadata": {
  "kernelspec": {
   "display_name": "Python 3 (ipykernel)",
   "language": "python",
   "name": "python3"
  },
  "language_info": {
   "codemirror_mode": {
    "name": "ipython",
    "version": 3
   },
   "file_extension": ".py",
   "mimetype": "text/x-python",
   "name": "python",
   "nbconvert_exporter": "python",
   "pygments_lexer": "ipython3",
   "version": "3.10.8"
  }
 },
 "nbformat": 4,
 "nbformat_minor": 5
}
